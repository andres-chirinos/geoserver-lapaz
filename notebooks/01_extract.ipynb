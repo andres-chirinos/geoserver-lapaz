{
 "cells": [
  {
   "cell_type": "code",
   "execution_count": null,
   "id": "2820b868",
   "metadata": {},
   "outputs": [],
   "source": [
    "# Install dependencies\n",
    "%pip install --upgrade pip \n",
    "%pip install pandas requests"
   ]
  },
  {
   "cell_type": "code",
   "execution_count": null,
   "id": "a4bf5fd6",
   "metadata": {},
   "outputs": [],
   "source": [
    "import requests\n",
    "import xml.etree.ElementTree as ET\n",
    "import os"
   ]
  },
  {
   "cell_type": "code",
   "execution_count": null,
   "id": "25728719",
   "metadata": {
    "tags": [
     "parameters"
    ]
   },
   "outputs": [],
   "source": [
    "input_url = \"https://sitservicios.lapaz.bo/geoserver/ows\"\n",
    "data_dir = \"../data\""
   ]
  },
  {
   "cell_type": "code",
   "execution_count": null,
   "id": "568d3815",
   "metadata": {},
   "outputs": [],
   "source": [
    "r = requests.get(f\"{input_url}?service=WFS&version=1.0.0&request=GetCapabilities\")\n",
    "tree = ET.fromstring(r.content)"
   ]
  },
  {
   "cell_type": "code",
   "execution_count": null,
   "id": "29fc23ea",
   "metadata": {},
   "outputs": [],
   "source": [
    "ns = {\"wfs\": \"http://www.opengis.net/wfs\"}\n",
    "layer_names = [el.text for el in tree.findall(\".//wfs:Name\", ns)]"
   ]
  },
  {
   "cell_type": "code",
   "execution_count": null,
   "id": "10230f01",
   "metadata": {},
   "outputs": [],
   "source": [
    "def create_metadata(layer_name):\n",
    "    r = requests.get(\n",
    "        f\"{input_url}?service=WFS&version=1.0.0&request=DescribeFeatureType&typeName={layer_name}\"\n",
    "    )\n",
    "    tree = ET.fromstring(r.content)\n",
    "\n",
    "    metadata = {}\n",
    "    for element in tree.findall(\n",
    "        \".//xsd:element\", {\"xsd\": \"http://www.w3.org/2001/XMLSchema\"}\n",
    "    ):\n",
    "        name = element.get(\"name\")\n",
    "        type_ = element.get(\"type\")\n",
    "        metadata[name] = type_\n",
    "\n",
    "    return metadata"
   ]
  },
  {
   "cell_type": "code",
   "execution_count": null,
   "id": "7c7c6ae0",
   "metadata": {},
   "outputs": [],
   "source": [
    "import hashlib\n",
    "import time\n",
    "import json\n",
    "from datetime import datetime, timezone\n",
    "\n",
    "for name in layer_names:\n",
    "    print(f\"Descargando: {name}\")\n",
    "    wfs_url = f\"{input_url}?service=WFS&version=1.0.0&request=GetFeature&typeName={name}&outputFormat=application/json\"\n",
    "    try:\n",
    "        resp = requests.get(wfs_url)\n",
    "        if resp.status_code == 200:\n",
    "            filename = name.replace(\"lapaz:\", \"\") + \".geojson\"\n",
    "            full_path = f\"{data_dir}/{filename}\"\n",
    "            data = json.loads(resp.text)\n",
    "            with open(full_path, \"w\", encoding=\"utf-8\") as file_out:\n",
    "                json.dump(data, file_out, indent=4, ensure_ascii=False)\n",
    "\n",
    "            # Crear archivo de metadata\n",
    "            with open(full_path, \"rb\") as f_in:\n",
    "                file_contents = f_in.read()\n",
    "            file_hash = hashlib.sha256(file_contents).hexdigest()\n",
    "            metadata = {\n",
    "                \"hash\": file_hash,\n",
    "                \"source\": wfs_url,\n",
    "                \"request_status\": resp.status_code,\n",
    "                \"unix_timestamp\": int(time.time()),\n",
    "                \"timestamp\": datetime.now(timezone.utc).isoformat(),\n",
    "                \"xml_metadata\": create_metadata(name),\n",
    "            }\n",
    "            metadata_filename = name.replace(\"lapaz:\", \"\") + \".metadata.json\"\n",
    "            with open(\n",
    "                f\"{data_dir}/{metadata_filename}\", \"w\", encoding=\"utf-8\"\n",
    "            ) as meta_file:\n",
    "                json.dump(metadata, meta_file, indent=4, ensure_ascii=False)\n",
    "        else:\n",
    "            print(f\"❌ Error al descargar {name}\")\n",
    "    except Exception as e:\n",
    "        print(f\"⚠️ Excepción con {name}: {e}\")"
   ]
  }
 ],
 "metadata": {
  "kernelspec": {
   "display_name": ".venv",
   "language": "python",
   "name": "python3"
  },
  "language_info": {
   "codemirror_mode": {
    "name": "ipython",
    "version": 3
   },
   "file_extension": ".py",
   "mimetype": "text/x-python",
   "name": "python",
   "nbconvert_exporter": "python",
   "pygments_lexer": "ipython3",
   "version": "3.10.12"
  }
 },
 "nbformat": 4,
 "nbformat_minor": 5
}
