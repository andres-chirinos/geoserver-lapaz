{
 "cells": [
  {
   "cell_type": "code",
   "execution_count": null,
   "id": "2820b868",
   "metadata": {},
   "outputs": [],
   "source": [
    "# Install dependencies\n",
    "%pip install --upgrade pip \n",
    "%pip install pandas requests"
   ]
  },
  {
   "cell_type": "code",
   "execution_count": null,
   "id": "a4bf5fd6",
   "metadata": {},
   "outputs": [],
   "source": [
    "import requests\n",
    "import xml.etree.ElementTree as ET\n",
    "import os\n",
    "import hashlib\n",
    "import time\n",
    "import json\n",
    "from datetime import datetime, timezone"
   ]
  },
  {
   "cell_type": "code",
   "execution_count": null,
   "id": "25728719",
   "metadata": {
    "tags": [
     "parameters"
    ]
   },
   "outputs": [],
   "source": [
    "input_url = \"https://sitservicios.lapaz.bo/geoserver/ows\"\n",
    "data_dir = \"../data\""
   ]
  },
  {
   "cell_type": "code",
   "execution_count": null,
   "id": "568d3815",
   "metadata": {},
   "outputs": [],
   "source": [
    "r = requests.get(f\"{input_url}?service=WFS&version=1.0.0&request=GetCapabilities\")\n",
    "tree = ET.fromstring(r.content)"
   ]
  },
  {
   "cell_type": "code",
   "execution_count": null,
   "id": "29fc23ea",
   "metadata": {},
   "outputs": [],
   "source": [
    "ns = {\"wfs\": \"http://www.opengis.net/wfs\"}\n",
    "layer_names = [el.text for el in tree.findall(\".//wfs:Name\", ns)]"
   ]
  },
  {
   "cell_type": "code",
   "execution_count": null,
   "id": "10230f01",
   "metadata": {},
   "outputs": [],
   "source": [
    "def get_xml_metadata(layer_name):\n",
    "    r = requests.get(\n",
    "        f\"{input_url}?service=WFS&version=1.0.0&request=DescribeFeatureType&typeName={layer_name}\"\n",
    "    )\n",
    "    tree = ET.fromstring(r.content)\n",
    "\n",
    "    metadata = {}\n",
    "    for element in tree.findall(\n",
    "        \".//xsd:element\", {\"xsd\": \"http://www.w3.org/2001/XMLSchema\"}\n",
    "    ):\n",
    "        name = element.get(\"name\")\n",
    "        type_ = element.get(\"type\")\n",
    "        metadata[name] = type_\n",
    "\n",
    "    return metadata"
   ]
  },
  {
   "cell_type": "code",
   "execution_count": null,
   "id": "09a8d363",
   "metadata": {},
   "outputs": [],
   "source": [
    "def create_metadata(file_path, wfs_url, name, resp):\n",
    "\n",
    "    with open(file_path, \"rb\") as f_in:\n",
    "        file_contents = f_in.read()\n",
    "\n",
    "    file_hash = hashlib.sha256(file_contents).hexdigest()\n",
    "\n",
    "    metadata = {\n",
    "        \"hash\": file_hash,\n",
    "        \"source\": wfs_url,\n",
    "        \"request_status\": resp.status_code,\n",
    "        \"unix_timestamp\": int(time.time()),\n",
    "        \"timestamp\": datetime.now(timezone.utc).isoformat(),\n",
    "        \"xml_metadata\": get_xml_metadata(name),\n",
    "    }\n",
    "\n",
    "    metadata_filename = name.replace(\":\",\"_\") + \".metadata.json\"\n",
    "\n",
    "    with open(f\"{data_dir}/{metadata_filename}\", \"w\", encoding=\"utf-8\") as meta_file:\n",
    "        json.dump(metadata, meta_file, indent=4, ensure_ascii=False)"
   ]
  },
  {
   "cell_type": "code",
   "execution_count": null,
   "id": "3412d6e3",
   "metadata": {},
   "outputs": [],
   "source": [
    "def download_layer(layer_name, format=\"application/json\"):\n",
    "    wfs_url = f\"{input_url}?service=WFS&version=1.0.0&request=GetFeature&typeName={layer_name}&outputFormat={format}\"\n",
    "    r = requests.get(wfs_url)\n",
    "    name = layer_name.replace(\":\",\"_\")\n",
    "    if r.status_code == 200:\n",
    "        file_path = os.path.join(data_dir, f\"{name}.geojson\")\n",
    "        with open(file_path, \"wb\") as f_out:\n",
    "            f_out.write(r.content)\n",
    "\n",
    "        create_metadata(file_path, input_url, layer_name, r)\n",
    "        print(f\"Downloaded and saved {layer_name} to {file_path}\")\n",
    "    else:\n",
    "        print(f\"Failed to download {layer_name}: {r.status_code}\")"
   ]
  },
  {
   "cell_type": "code",
   "execution_count": null,
   "id": "7c7c6ae0",
   "metadata": {},
   "outputs": [],
   "source": [
    "from concurrent.futures import ThreadPoolExecutor, as_completed\n",
    "\n",
    "\n",
    "def process_layer(name, format=\"application/json\"):\n",
    "    print(f\"Descargando: {name}\")\n",
    "    try:\n",
    "        download_layer(name, format)\n",
    "    except json.decoder.JSONDecodeError:\n",
    "        if format == \"application/json\":\n",
    "            print(\n",
    "                f\"⚠️ Error de decodificación JSON para {name}, reintentando como GeoJSON\"\n",
    "            )\n",
    "            download_layer(name, format=\"geojson\")\n",
    "            return\n",
    "        else:\n",
    "            print(f\"❌ Error de decodificación JSON para {name}, no se pudo descargar\")\n",
    "    except Exception as e:\n",
    "        print(f\"⚠️ Excepción con {name}: {e}\")\n",
    "\n",
    "\n",
    "with ThreadPoolExecutor() as executor:\n",
    "    results = {executor.submit(process_layer, name): name for name in layer_names}\n",
    "    for future in as_completed(results):\n",
    "        pass  # Opcional: usa future.result() para recoger resultados si hace falta"
   ]
  }
 ],
 "metadata": {
  "kernelspec": {
   "display_name": ".venv",
   "language": "python",
   "name": "python3"
  },
  "language_info": {
   "codemirror_mode": {
    "name": "ipython",
    "version": 3
   },
   "file_extension": ".py",
   "mimetype": "text/x-python",
   "name": "python",
   "nbconvert_exporter": "python",
   "pygments_lexer": "ipython3",
   "version": "3.10.12"
  }
 },
 "nbformat": 4,
 "nbformat_minor": 5
}
